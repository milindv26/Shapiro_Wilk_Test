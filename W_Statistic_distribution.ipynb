{
 "cells": [
  {
   "cell_type": "markdown",
   "metadata": {},
   "source": [
    "# Introduction\n",
    "\n",
    "The Shapiro-Wilk test is a widely used statistical procedure for testing the normality of a data set. Developed by Samuel Shapiro and Martin Wilk in 1965, this test is particularly effective for small sample sizes, typically considered to be less than 50. The test calculates a statistic, often denoted as W, which evaluates the degree to which a set of data conforms to a normal distribution.\n",
    "\n",
    "Here's a brief overview of the test:\n",
    "\n",
    "1. **Purpose**: The primary objective of the Shapiro-Wilk test is to determine whether a given sample comes from a normally distributed population. This is crucial in statistics, as many parametric tests assume normality of the data.\n",
    "\n",
    "2. **Method**: The test compares the order statistics (sorted data points) of the sample to the expected values of these order statistics if the data were normally distributed. The W statistic is a measure of how closely the data points match the normal distribution.\n",
    "\n",
    "3. **W Statistic**: The W value ranges from 0 to 1, where values close to 1 indicate that the data are likely normally distributed. A lower W value suggests deviations from normality.\n",
    "\n",
    "4. **Interpretation**: The result of the test includes the W statistic and a p-value. The null hypothesis of the test is that the data are normally distributed. If the p-value is less than a chosen significance level (commonly 0.05), the null hypothesis is rejected, suggesting that the data are not normally distributed.\n",
    "\n",
    "5. **Applications**: The Shapiro-Wilk test is used in various fields for preliminary data analysis, especially where normality is an assumption for further statistical tests, such as ANOVA, t-tests, and regression analysis.\n",
    "\n",
    "Overall, the Shapiro-Wilk test is a fundamental tool in statistics for assessing the normality of data, providing an essential step in many analytical procedures."
   ]
  },
  {
   "cell_type": "markdown",
   "metadata": {},
   "source": [
    "**In this Jupyter notebook we will plot the distribution of W statistic for sample size $n$ through Monte Carlo simluation. Later we will compare the test result of our**"
   ]
  },
  {
   "cell_type": "markdown",
   "metadata": {},
   "source": [
    "# W statistic"
   ]
  },
  {
   "cell_type": "markdown",
   "metadata": {},
   "source": [
    "## Some theory\n",
    "\n",
    "The W statistic is give by the following expression:\n",
    "\n",
    "$$\n",
    "W = \\frac{\\left(\\sum\\limits_{j=1}^{n} a_j X_{(j)}\\right)^2}{\\sum\\limits_{j=1}^{n} (X_j - \\overline{X})^2}\n",
    "$$\n",
    "\n",
    "Where \n",
    "\n",
    "$X_{(j)}$ is the $j^{th}$ order statistic. For instance, we draw a sample of size 10 from a distribution, we arrange the sample in ascending order. So $X_{(1)}$ would be the smallest value of the sample and $X_{(10)}$ would be the highest.\n",
    "\n",
    "$a_j \\in [a_1, a_2, ..., a_n] = \\frac{1}{C} \\left( m^{T}V^{-1} \\right)$\n",
    "\n",
    "$C := (m^T V^{-1} V^{-1} m)^\\frac{1}{2}$\n",
    "\n",
    "$V$ is covariance matrix where $V_{i,j}=\\mathbb{E}[(Z_{(i)}-m_i)(Z_{(j)}-m_j)]$\n",
    "\n",
    "$m := [m_1, m_2, ..., m_n]$, where $m_i:= \\mathbb{E}[Z_{(i)}]$\n",
    "\n",
    "$Z_{(i)}$ is $i^{th}$ order statistic. And $Z_i$ is $i.i.d$ $N(0,1)$\n",
    "\n",
    "**Note:** $\\mathbb{E}[Z_{(i)}]$ of order statistics depends on sample size. It is because order statistics are determined by the ranks of the data points in a sample, and as the sample size changes, the distribution of these ranks changes. As the sample size increases, the range of possible values for a particular order statistic also increases. For instance, the maximum value in a larger sample is likely to be greater than the maximum in a smaller sample simply because there are more data points from which the maximum can be drawn.\n"
   ]
  },
  {
   "cell_type": "markdown",
   "metadata": {},
   "source": [
    "## Calculating expectation of order statistics"
   ]
  },
  {
   "cell_type": "markdown",
   "metadata": {},
   "source": [
    "In a sample of size $(n)$ the expected value of the $(r)$ th largest order statistic is given by\n",
    "$$\n",
    "E(r, n) = \\frac{n!}{(r - 1)!(n - r)!} \\int_{-\\infty}^{\\infty} x(1 - \\Phi(x))^{r-1}(\\Phi(x))^{n-r}\\phi(x) \\, dx,\n",
    "$$\n",
    "where \n",
    "$$\n",
    "\\phi(x) = \\frac{1}{\\sqrt{2\\pi}}\\exp\\left(-\\frac{1}{2}x^2\\right)\n",
    "$$\n",
    "and\n",
    "$$\n",
    "\\Phi(x) = \\int_{-\\infty}^{x} \\phi(z) \\, dz.\n",
    "$$\n",
    "\n",
    "by Royston (1982)."
   ]
  },
  {
   "cell_type": "code",
   "execution_count": 1,
   "metadata": {},
   "outputs": [],
   "source": [
    "# importing libraries\n",
    "from scipy.integrate import quad\n",
    "from scipy.special import binom\n",
    "from scipy.stats import norm\n",
    "import numpy as np\n",
    "import matplotlib.pyplot as plt\n",
    "from scipy.stats import shapiro"
   ]
  },
  {
   "cell_type": "code",
   "execution_count": 2,
   "metadata": {},
   "outputs": [],
   "source": [
    "# Calculation expectation\n",
    "inf, phi, Phi = float('inf'), norm.pdf, norm.cdf\n",
    "\n",
    "def E(r, n):\n",
    "    def f(x):   \n",
    "        F = Phi(x)\n",
    "        return x*(1-F)**(r-1)*F**(n-r)*phi(x)\n",
    "    return r*binom(n, r)*quad(f, -inf, inf)[0]"
   ]
  },
  {
   "cell_type": "markdown",
   "metadata": {},
   "source": [
    "## Creating vector m"
   ]
  },
  {
   "cell_type": "code",
   "execution_count": 3,
   "metadata": {},
   "outputs": [],
   "source": [
    "# defining the sample size, let\n",
    "n=10"
   ]
  },
  {
   "cell_type": "code",
   "execution_count": 4,
   "metadata": {},
   "outputs": [
    {
     "data": {
      "text/plain": [
       "array([[-1.53875273],\n",
       "       [-1.00135704],\n",
       "       [-0.65605911],\n",
       "       [-0.3757647 ],\n",
       "       [-0.12266775],\n",
       "       [ 0.12266775],\n",
       "       [ 0.3757647 ],\n",
       "       [ 0.65605911],\n",
       "       [ 1.00135704],\n",
       "       [ 1.53875273]])"
      ]
     },
     "execution_count": 4,
     "metadata": {},
     "output_type": "execute_result"
    }
   ],
   "source": [
    "# creating vector m\n",
    "m=np.array([E(i,n) for i in range(1,n+1)])\n",
    "m=m[::-1] #reversing the order since Royston (1982) give j-th largest order statistic\n",
    "m=m.reshape((n,1))\n",
    "m"
   ]
  },
  {
   "cell_type": "markdown",
   "metadata": {},
   "source": [
    "## Creating covariance matrix V\n",
    "\n",
    "$V_{i,j}=\\mathbb{E}[(Z_{(i)}-m_i)(Z_{(j)}-m_j)]$"
   ]
  },
  {
   "cell_type": "markdown",
   "metadata": {},
   "source": [
    "To create the  covariance matrix $V$, we run a small simulation."
   ]
  },
  {
   "cell_type": "code",
   "execution_count": 5,
   "metadata": {},
   "outputs": [
    {
     "data": {
      "text/plain": [
       "array([[0.34480823, 0.17113808, 0.11640678, 0.08818278, 0.07066647,\n",
       "        0.05855113, 0.04903132, 0.04097532, 0.03424416, 0.02729233],\n",
       "       [0.17113808, 0.21423015, 0.14650601, 0.11143691, 0.08958855,\n",
       "        0.07415785, 0.06220751, 0.05215463, 0.04342614, 0.03446663],\n",
       "       [0.11640678, 0.14650601, 0.17499184, 0.13362146, 0.1075927 ,\n",
       "        0.08917342, 0.07486115, 0.06289104, 0.05235331, 0.04142845],\n",
       "       [0.08818278, 0.11143691, 0.13362146, 0.15778144, 0.12737174,\n",
       "        0.10577756, 0.08898409, 0.07488866, 0.06251412, 0.04923958],\n",
       "       [0.07066647, 0.08958855, 0.1075927 , 0.12737174, 0.15084324,\n",
       "        0.12552122, 0.10573817, 0.08902319, 0.07434763, 0.05857413],\n",
       "       [0.05855113, 0.07415785, 0.08917342, 0.10577756, 0.12552122,\n",
       "        0.15084589, 0.12736883, 0.10756093, 0.08972441, 0.07074192],\n",
       "       [0.04903132, 0.06220751, 0.07486115, 0.08898409, 0.10573817,\n",
       "        0.12736883, 0.15776356, 0.13360747, 0.11161433, 0.0881613 ],\n",
       "       [0.04097532, 0.05215463, 0.06289104, 0.07488866, 0.08902319,\n",
       "        0.10756093, 0.13360747, 0.17481381, 0.14665464, 0.11628571],\n",
       "       [0.03424416, 0.04342614, 0.05235331, 0.06251412, 0.07434763,\n",
       "        0.08972441, 0.11161433, 0.14665464, 0.21464918, 0.17107261],\n",
       "       [0.02729233, 0.03446663, 0.04142845, 0.04923958, 0.05857413,\n",
       "        0.07074192, 0.0881613 , 0.11628571, 0.17107261, 0.34390761]])"
      ]
     },
     "execution_count": 5,
     "metadata": {},
     "output_type": "execute_result"
    }
   ],
   "source": [
    "np.random.seed(269)\n",
    "matrix=np.random.normal(0,1,(1000000,n))\n",
    "matrix=np.sort(matrix,axis=1)\n",
    "cov_matrix = np.cov(matrix, rowvar=False)\n",
    "cov_matrix"
   ]
  },
  {
   "cell_type": "code",
   "execution_count": 6,
   "metadata": {},
   "outputs": [
    {
     "data": {
      "text/plain": [
       "array([[-1.53889117],\n",
       "       [-1.00124066],\n",
       "       [-0.65582729],\n",
       "       [-0.37548451],\n",
       "       [-0.12268297],\n",
       "       [ 0.12199091],\n",
       "       [ 0.3747911 ],\n",
       "       [ 0.65507792],\n",
       "       [ 1.00003415],\n",
       "       [ 1.53729462]])"
      ]
     },
     "execution_count": 6,
     "metadata": {},
     "output_type": "execute_result"
    }
   ],
   "source": [
    "m=(np.mean(matrix,axis=0)).reshape(10,1)\n",
    "m"
   ]
  },
  {
   "cell_type": "markdown",
   "metadata": {},
   "source": [
    "## Creating the length C\n",
    "\n",
    "$C := (m^T V^{-1} V^{-1} m)^\\frac{1}{2}$"
   ]
  },
  {
   "cell_type": "code",
   "execution_count": 7,
   "metadata": {},
   "outputs": [
    {
     "data": {
      "text/plain": [
       "array([[6.19427319]])"
      ]
     },
     "execution_count": 7,
     "metadata": {},
     "output_type": "execute_result"
    }
   ],
   "source": [
    "C = (m.T @ (np.linalg.inv(cov_matrix)) @ (np.linalg.inv(cov_matrix)) @ m)**(0.5) # '@' multplies two matrices\n",
    "C"
   ]
  },
  {
   "cell_type": "markdown",
   "metadata": {},
   "source": [
    "## Creating vector a\n",
    "\n",
    "$a = [a_1, a_2, ..., a_n] = \\frac{1}{C} \\left( m^{T}V^{-1} \\right)$\n",
    "\n"
   ]
  },
  {
   "cell_type": "code",
   "execution_count": 8,
   "metadata": {},
   "outputs": [
    {
     "data": {
      "text/plain": [
       "array([[-0.57207524, -0.3328623 , -0.2068158 , -0.12950197, -0.04215577,\n",
       "         0.04442722,  0.1267467 ,  0.20638143,  0.32896421,  0.57598846]])"
      ]
     },
     "execution_count": 8,
     "metadata": {},
     "output_type": "execute_result"
    }
   ],
   "source": [
    "a=(m.T @ (np.linalg.inv(cov_matrix)))/(C)\n",
    "a"
   ]
  },
  {
   "cell_type": "markdown",
   "metadata": {},
   "source": [
    "## Monte Carlo simulation to W statistic distribution\n",
    "\n",
    "$$\n",
    "W = \\frac{\\left(\\sum\\limits_{j=1}^{n} a_j X_{(j)}\\right)^2}{\\sum\\limits_{j=1}^{n} (X_j - \\overline{X})^2}\n",
    "$$"
   ]
  },
  {
   "cell_type": "code",
   "execution_count": 9,
   "metadata": {},
   "outputs": [
    {
     "data": {
      "text/plain": [
       "array([[-2.02258982, -1.19155678, -0.81895459, ...,  1.30640262,\n",
       "         1.45529678,  2.35676065],\n",
       "       [-2.3236977 , -1.14898889, -0.55883736, ...,  0.19719931,\n",
       "         0.65898349,  1.63017364],\n",
       "       [-1.38408064, -1.08530663, -0.80016064, ...,  0.56901273,\n",
       "         1.2402628 ,  2.40098544],\n",
       "       ...,\n",
       "       [-1.44008624, -1.24841506, -0.65395294, ..., -0.04813313,\n",
       "         0.68951906,  1.21878072],\n",
       "       [-0.81335319, -0.78517371, -0.69083909, ...,  0.77903271,\n",
       "         1.52354765,  1.81966713],\n",
       "       [-1.38512201, -1.02405077, -0.93704861, ...,  0.60640053,\n",
       "         0.66852956,  1.35122507]])"
      ]
     },
     "execution_count": 9,
     "metadata": {},
     "output_type": "execute_result"
    }
   ],
   "source": [
    "# generating a many samples\n",
    "iteration=1000000\n",
    "np.random.seed(2609)\n",
    "x_mat=np.random.normal(0,1,(iteration,n))\n",
    "x_mat=np.sort(x_mat,axis=1)\n",
    "x_mat"
   ]
  },
  {
   "cell_type": "code",
   "execution_count": 10,
   "metadata": {},
   "outputs": [
    {
     "data": {
      "text/plain": [
       "array([1.85990199, 1.09925087, 1.35017523, ..., 0.64084908, 0.93247314,\n",
       "       0.75201877])"
      ]
     },
     "execution_count": 10,
     "metadata": {},
     "output_type": "execute_result"
    }
   ],
   "source": [
    "# calculation the variance of each sample\n",
    "x_var=np.var(x_mat, axis=1,ddof=1)\n",
    "x_var"
   ]
  },
  {
   "cell_type": "code",
   "execution_count": 11,
   "metadata": {},
   "outputs": [
    {
     "data": {
      "text/plain": [
       "array([[16.73911793,  9.89325784, 12.15157709, ...,  5.76764168,\n",
       "         8.39225825,  6.76816897]])"
      ]
     },
     "execution_count": 11,
     "metadata": {},
     "output_type": "execute_result"
    }
   ],
   "source": [
    "denomenator=(x_var)*(n-1) #this is our denomenator of W statistic\n",
    "denomenator=denomenator.reshape(1,iteration)\n",
    "denomenator"
   ]
  },
  {
   "cell_type": "code",
   "execution_count": 12,
   "metadata": {},
   "outputs": [
    {
     "data": {
      "text/plain": [
       "array([[16.3838163 ,  9.54557876, 11.27184021, ...,  5.40733275,\n",
       "         7.51559228,  6.57310058]])"
      ]
     },
     "execution_count": 12,
     "metadata": {},
     "output_type": "execute_result"
    }
   ],
   "source": [
    "numerator = (a @ x_mat.T)**2 #this is our numerator of W statistic\n",
    "numerator=numerator.reshape(1,iteration)\n",
    "numerator"
   ]
  },
  {
   "cell_type": "code",
   "execution_count": 13,
   "metadata": {},
   "outputs": [
    {
     "data": {
      "text/plain": [
       "array([0.97877417, 0.96485697, 0.92760307, ..., 0.93752924, 0.89553873,\n",
       "       0.97117856])"
      ]
     },
     "execution_count": 13,
     "metadata": {},
     "output_type": "execute_result"
    }
   ],
   "source": [
    "W=numerator/denomenator\n",
    "W=W.flatten() #without flatten, plt takes a lot time to plot hist\n",
    "W"
   ]
  },
  {
   "cell_type": "code",
   "execution_count": 14,
   "metadata": {},
   "outputs": [
    {
     "data": {
      "image/png": "[encoded data removed]",
      "text/plain": [
       "<Figure size 640x480 with 1 Axes>"
      ]
     },
     "metadata": {},
     "output_type": "display_data"
    }
   ],
   "source": [
    "plt.hist(W,bins=1000)\n",
    "plt.grid()\n",
    "plt.title(\"W statistic distribution\")\n",
    "plt.xlabel(\"W statistic\")\n",
    "plt.ylabel(\"Frequency\")\n",
    "plt.show()"
   ]
  },
  {
   "cell_type": "markdown",
   "metadata": {},
   "source": [
    "# Using our created distribution to test and comparing it with in-built shapiro test in library scipy-stats"
   ]
  },
  {
   "cell_type": "code",
   "execution_count": 27,
   "metadata": {},
   "outputs": [
    {
     "name": "stdout",
     "output_type": "stream",
     "text": [
      "Shapiro-Wilk Test for Normality\n",
      "Statistic: 0.8404010534286499\n",
      "P-value: 0.044615261256694794\n",
      "\n",
      "Our_W_statistic: 0.821847072710419\n",
      "Our_P_value: 0.027235\n",
      "\n"
     ]
    }
   ],
   "source": [
    "#np.random.seed(2609)\n",
    "y=np.random.normal(1500,49.5,n)\n",
    "#y=np.random.uniform(200,1000,n)\n",
    "\n",
    "y=np.sort(y)\n",
    "shapiro_W_scipy, shapiro_p_scipy = shapiro(y)\n",
    "W_our=(((a @ y.T)**2)/(np.var(y,ddof=1)*(n-1)))[0]\n",
    "W_our_p=(((W<W_our).sum())/len(W))\n",
    "\n",
    "# Display the results\n",
    "print(f\"Shapiro-Wilk Test for Normality\")\n",
    "print(f\"Statistic: {shapiro_W_scipy}\")\n",
    "print(f\"P-value: {shapiro_p_scipy}\\n\")\n",
    "\n",
    "print(f\"Our_W_statistic: {W_our}\")\n",
    "print(f\"Our_P_value: {W_our_p}\\n\")\n"
   ]
  },
  {
   "cell_type": "code",
   "execution_count": 34,
   "metadata": {},
   "outputs": [
    {
     "data": {
      "text/plain": [
       "array([200.01399773, 200.18990977, 199.93685563])"
      ]
     },
     "execution_count": 34,
     "metadata": {},
     "output_type": "execute_result"
    }
   ],
   "source": [
    "y=np.random.normal(200,9.5,(10000,3))\n",
    "np.mean(y,axis=0)"
   ]
  },
  {
   "cell_type": "code",
   "execution_count": 28,
   "metadata": {},
   "outputs": [],
   "source": [
    "y=np.random.normal(0,1,(10000,n))\n",
    "\n",
    "#y=np.random.uniform(200,1000,(10000,n))\n",
    "y=np.sort(y,axis=1)\n",
    "W_our=[]\n",
    "W_our_p=[]\n",
    "shapiro_W_p=[]\n",
    "for i in range(10000):  \n",
    "    shapiro_W_p.append(shapiro(y[i]))\n",
    "    W_our.append((((a @ y[i].T)**2)/(np.var(y[i],ddof=1)*(n-1)))[0])\n",
    "    W_our_p.append((((W<W_our[i]).sum())/len(W)))\n",
    "\n"
   ]
  },
  {
   "cell_type": "code",
   "execution_count": 29,
   "metadata": {},
   "outputs": [
    {
     "data": {
      "text/plain": [
       "508"
      ]
     },
     "execution_count": 29,
     "metadata": {},
     "output_type": "execute_result"
    }
   ],
   "source": [
    "p_shapiro=[i[1] for i in shapiro_W_p]\n",
    "len([x for x in p_shapiro if x < 0.05])\n"
   ]
  },
  {
   "cell_type": "code",
   "execution_count": 30,
   "metadata": {},
   "outputs": [
    {
     "data": {
      "text/plain": [
       "508"
      ]
     },
     "execution_count": 30,
     "metadata": {},
     "output_type": "execute_result"
    }
   ],
   "source": [
    "len([x for x in W_our_p if x < 0.05])"
   ]
  },
  {
   "cell_type": "code",
   "execution_count": null,
   "metadata": {},
   "outputs": [],
   "source": [
    "plt.scatter([1 for i in range(100)],[shapiro_W_p[i][1] for i in range(100)])\n",
    "plt.scatter([2 for i in range(100)],W_our_p[0:100])"
   ]
  },
  {
   "cell_type": "markdown",
   "metadata": {},
   "source": [
    "# References\n",
    "\n",
    "Royston, J. P. (1982). Algorithm AS 177: Expected normal order statistics (exact and approximate). Journal of the royal statistical society. Series C (Applied statistics), 31(2), 161-165."
   ]
  },
  {
   "cell_type": "code",
   "execution_count": null,
   "metadata": {},
   "outputs": [],
   "source": [
    "cov_matrix"
   ]
  },
  {
   "cell_type": "code",
   "execution_count": null,
   "metadata": {},
   "outputs": [],
   "source": [
    "np.mean(x_mat,axis=0).reshape(10,1)"
   ]
  },
  {
   "cell_type": "code",
   "execution_count": null,
   "metadata": {},
   "outputs": [],
   "source": [
    "from __future__ import annotations\n",
    "import math\n",
    "import warnings\n",
    "from collections import namedtuple\n",
    "\n",
    "import numpy as np\n",
    "from numpy import (isscalar, r_, log, around, unique, asarray, zeros,\n",
    "                   arange, sort, amin, amax, atleast_1d, sqrt, array,\n",
    "                   compress, pi, exp, ravel, count_nonzero, sin, cos,\n",
    "                   arctan2, hypot)\n",
    "\n",
    "from scipy import optimize, special, interpolate, stats\n",
    "from scipy._lib._bunch import _make_tuple_bunch\n",
    "from scipy._lib._util import _rename_parameter, _contains_nan, _get_nan\n",
    "\n",
    "from . import _statlib\n",
    "from . import _stats_py\n",
    "from ._fit import FitResult\n",
    "from ._stats_py import find_repeats, _normtest_finish, SignificanceResult\n",
    "from .contingency import chi2_contingency\n",
    "from . import distributions\n",
    "from ._distn_infrastructure import rv_generic\n",
    "from ._hypotests import _get_wilcoxon_distr\n",
    "from ._axis_nan_policy import _axis_nan_policy_factory\n",
    "from .._lib.deprecation import _deprecated\n"
   ]
  },
  {
   "cell_type": "code",
   "execution_count": null,
   "metadata": {},
   "outputs": [],
   "source": [
    "def shapiro(x):\n",
    "    r\"\"\"Perform the Shapiro-Wilk test for normality.\n",
    "\n",
    "    The Shapiro-Wilk test tests the null hypothesis that the\n",
    "    data was drawn from a normal distribution.\n",
    "\n",
    "    Parameters\n",
    "    ----------\n",
    "    x : array_like\n",
    "        Array of sample data.\n",
    "\n",
    "    Returns\n",
    "    -------\n",
    "    statistic : float\n",
    "        The test statistic.\n",
    "    p-value : float\n",
    "        The p-value for the hypothesis test.\n",
    "\n",
    "    See Also\n",
    "    --------\n",
    "    anderson : The Anderson-Darling test for normality\n",
    "    kstest : The Kolmogorov-Smirnov test for goodness of fit.\n",
    "\n",
    "    Notes\n",
    "    -----\n",
    "    The algorithm used is described in [4]_ but censoring parameters as\n",
    "    described are not implemented. For N > 5000 the W test statistic is\n",
    "    accurate, but the p-value may not be.\n",
    "\n",
    "    References\n",
    "    ----------\n",
    "    .. [1] https://www.itl.nist.gov/div898/handbook/prc/section2/prc213.htm\n",
    "    .. [2] Shapiro, S. S. & Wilk, M.B (1965). An analysis of variance test for\n",
    "           normality (complete samples), Biometrika, Vol. 52, pp. 591-611.\n",
    "    .. [3] Razali, N. M. & Wah, Y. B. (2011) Power comparisons of Shapiro-Wilk,\n",
    "           Kolmogorov-Smirnov, Lilliefors and Anderson-Darling tests, Journal of\n",
    "           Statistical Modeling and Analytics, Vol. 2, pp. 21-33.\n",
    "    .. [4] ALGORITHM AS R94 APPL. STATIST. (1995) VOL. 44, NO. 4.\n",
    "    .. [5] B. Phipson and G. K. Smyth. \"Permutation P-values Should Never Be\n",
    "           Zero: Calculating Exact P-values When Permutations Are Randomly\n",
    "           Drawn.\" Statistical Applications in Genetics and Molecular Biology\n",
    "           9.1 (2010).\n",
    "    .. [6] Panagiotakos, D. B. (2008). The value of p-value in biomedical\n",
    "           research. The open cardiovascular medicine journal, 2, 97.\n",
    "\n",
    "    Examples\n",
    "    --------\n",
    "    Suppose we wish to infer from measurements whether the weights of adult\n",
    "    human males in a medical study are not normally distributed [2]_.\n",
    "    The weights (lbs) are recorded in the array ``x`` below.\n",
    "\n",
    "    >>> import numpy as np\n",
    "    >>> x = np.array([148, 154, 158, 160, 161, 162, 166, 170, 182, 195, 236])\n",
    "\n",
    "    The normality test of [1]_ and [2]_ begins by computing a statistic based\n",
    "    on the relationship between the observations and the expected order\n",
    "    statistics of a normal distribution.\n",
    "\n",
    "    >>> from scipy import stats\n",
    "    >>> res = stats.shapiro(x)\n",
    "    >>> res.statistic\n",
    "    0.7888147830963135\n",
    "\n",
    "    The value of this statistic tends to be high (close to 1) for samples drawn\n",
    "    from a normal distribution.\n",
    "\n",
    "    The test is performed by comparing the observed value of the statistic\n",
    "    against the null distribution: the distribution of statistic values formed\n",
    "    under the null hypothesis that the weights were drawn from a normal\n",
    "    distribution. For this normality test, the null distribution is not easy to\n",
    "    calculate exactly, so it is usually approximated by Monte Carlo methods,\n",
    "    that is, drawing many samples of the same size as ``x`` from a normal\n",
    "    distribution and computing the values of the statistic for each.\n",
    "\n",
    "    >>> def statistic(x):\n",
    "    ...     # Get only the `shapiro` statistic; ignore its p-value\n",
    "    ...     return stats.shapiro(x).statistic\n",
    "    >>> ref = stats.monte_carlo_test(x, stats.norm.rvs, statistic,\n",
    "    ...                              alternative='less')\n",
    "    >>> import matplotlib.pyplot as plt\n",
    "    >>> fig, ax = plt.subplots(figsize=(8, 5))\n",
    "    >>> bins = np.linspace(0.65, 1, 50)\n",
    "    >>> def plot(ax):  # we'll re-use this\n",
    "    ...     ax.hist(ref.null_distribution, density=True, bins=bins)\n",
    "    ...     ax.set_title(\"Shapiro-Wilk Test Null Distribution \\n\"\n",
    "    ...                  \"(Monte Carlo Approximation, 11 Observations)\")\n",
    "    ...     ax.set_xlabel(\"statistic\")\n",
    "    ...     ax.set_ylabel(\"probability density\")\n",
    "    >>> plot(ax)\n",
    "    >>> plt.show()\n",
    "\n",
    "    The comparison is quantified by the p-value: the proportion of values in\n",
    "    the null distribution less than or equal to the observed value of the\n",
    "    statistic.\n",
    "\n",
    "    >>> fig, ax = plt.subplots(figsize=(8, 5))\n",
    "    >>> plot(ax)\n",
    "    >>> annotation = (f'p-value={res.pvalue:.6f}\\n(highlighted area)')\n",
    "    >>> props = dict(facecolor='black', width=1, headwidth=5, headlength=8)\n",
    "    >>> _ = ax.annotate(annotation, (0.75, 0.1), (0.68, 0.7), arrowprops=props)\n",
    "    >>> i_extreme = np.where(bins <= res.statistic)[0]\n",
    "    >>> for i in i_extreme:\n",
    "    ...     ax.patches[i].set_color('C1')\n",
    "    >>> plt.xlim(0.65, 0.9)\n",
    "    >>> plt.ylim(0, 4)\n",
    "    >>> plt.show\n",
    "    >>> res.pvalue\n",
    "    0.006703833118081093\n",
    "\n",
    "    If the p-value is \"small\" - that is, if there is a low probability of\n",
    "    sampling data from a normally distributed population that produces such an\n",
    "    extreme value of the statistic - this may be taken as evidence against\n",
    "    the null hypothesis in favor of the alternative: the weights were not\n",
    "    drawn from a normal distribution. Note that:\n",
    "\n",
    "    - The inverse is not true; that is, the test is not used to provide\n",
    "      evidence *for* the null hypothesis.\n",
    "    - The threshold for values that will be considered \"small\" is a choice that\n",
    "      should be made before the data is analyzed [5]_ with consideration of the\n",
    "      risks of both false positives (incorrectly rejecting the null hypothesis)\n",
    "      and false negatives (failure to reject a false null hypothesis).\n",
    "\n",
    "    \"\"\"\n",
    "    x = np.ravel(x)\n",
    "\n",
    "    N = len(x)\n",
    "    if N < 3:\n",
    "        raise ValueError(\"Data must be at least length 3.\")\n",
    "\n",
    "    x = x - np.median(x)\n",
    "\n",
    "    a = zeros(N, 'f')\n",
    "    init = 0\n",
    "\n",
    "    y = sort(x)\n",
    "    a, w, pw, ifault = _statlib.swilk(y, a[:N//2], init)\n",
    "    if ifault not in [0, 2]:\n",
    "        warnings.warn(\"Input data for shapiro has range zero. The results \"\n",
    "                      \"may not be accurate.\")\n",
    "    if N > 5000:\n",
    "        warnings.warn(\"p-value may not be accurate for N > 5000.\")\n",
    "\n",
    "    # `swilk` can return negative p-values for N==3; see gh-18322.\n",
    "    if N == 3:\n",
    "        # Potential improvement: precision for small p-values\n",
    "        pw = 1 - 6/np.pi*np.arccos(np.sqrt(w))\n",
    "    return ShapiroResult(w, pw)"
   ]
  },
  {
   "cell_type": "code",
   "execution_count": null,
   "metadata": {},
   "outputs": [],
   "source": [
    "y=np.random.normal(1500,19.5,10)\n",
    "y"
   ]
  },
  {
   "cell_type": "code",
   "execution_count": null,
   "metadata": {},
   "outputs": [],
   "source": [
    "shapiro(y)"
   ]
  },
  {
   "cell_type": "code",
   "execution_count": null,
   "metadata": {},
   "outputs": [],
   "source": [
    "import numpy as np\n",
    "from scipy.stats import norm\n",
    "\n",
    "def expected_order_statistic(n, i):\n",
    "    \"\"\"\n",
    "    Approximate the expected value of the i-th order statistic for a standard normal distribution.\n",
    "    \"\"\"\n",
    "    return norm.ppf((i - 0.375) / (n + 0.25))\n",
    "\n",
    "def covariance_matrix(n):\n",
    "    \"\"\"\n",
    "    Create the covariance matrix V for the order statistics of a standard normal distribution.\n",
    "    \"\"\"\n",
    "    expected_values = np.array([expected_order_statistic(n, i + 1) for i in range(n)])\n",
    "    V = np.zeros((n, n))\n",
    "    \n",
    "    for i in range(n):\n",
    "        for j in range(n):\n",
    "            if i == j:\n",
    "                V[i, j] = 1 - norm.cdf(expected_values[i]) - norm.pdf(expected_values[i]) * expected_values[i]\n",
    "            else:\n",
    "                V[i, j] = norm.cdf(min(expected_values[i], expected_values[j])) - norm.cdf(expected_values[i]) * norm.cdf(expected_values[j])\n",
    "    \n",
    "    return V\n",
    "\n",
    "def unit_row_vector(V, m):\n",
    "    \"\"\"\n",
    "    Compute the unit row vector a' from the covariance matrix V and the expected values vector m.\n",
    "    \"\"\"\n",
    "    V_inv = np.linalg.inv(V)\n",
    "    C = np.sqrt(m.T @ V_inv @ V_inv @ m)\n",
    "    a_prime = (m.T @ V_inv) / C\n",
    "    return a_prime.flatten()\n",
    "\n",
    "# Example for n=5\n",
    "n = 5\n",
    "m = np.array([expected_order_statistic(n, i + 1) for i in range(n)])\n",
    "V = covariance_matrix(n)\n",
    "a_prime = unit_row_vector(V, m)\n",
    "\n",
    "print(\"Expected Order Statistics (m):\", m)\n",
    "print(\"Covariance Matrix (V):\\n\", V)\n",
    "print(\"Unit Row Vector (a'):\", a_prime)\n"
   ]
  },
  {
   "cell_type": "code",
   "execution_count": null,
   "metadata": {},
   "outputs": [],
   "source": [
    "expected_order_statistic(10, 2)"
   ]
  },
  {
   "cell_type": "code",
   "execution_count": null,
   "metadata": {},
   "outputs": [],
   "source": [
    "E(9,10)"
   ]
  },
  {
   "cell_type": "code",
   "execution_count": null,
   "metadata": {},
   "outputs": [],
   "source": []
  }
 ],
 "metadata": {
  "kernelspec": {
   "display_name": "Data_Science",
   "language": "python",
   "name": "python3"
  },
  "language_info": {
   "codemirror_mode": {
    "name": "ipython",
    "version": 3
   },
   "file_extension": ".py",
   "mimetype": "text/x-python",
   "name": "python",
   "nbconvert_exporter": "python",
   "pygments_lexer": "ipython3",
   "version": "3.11.5"
  }
 },
 "nbformat": 4,
 "nbformat_minor": 2
}
