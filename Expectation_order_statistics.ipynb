{
 "cells": [
  {
   "cell_type": "markdown",
   "metadata": {},
   "source": [
    "In a sample of size $(n)$ the expected value of the $(r)$ th largest order statistic is given by\n",
    "$$\n",
    "E(r, n) = \\frac{n!}{(r - 1)!(n - r)!} \\int_{-\\infty}^{\\infty} x(1 - \\Phi(x))^{r-1}(\\Phi(x))^{n-r}\\phi(x) \\, dx,\n",
    "$$\n",
    "where \n",
    "$$\n",
    "\\phi(x) = \\frac{1}{\\sqrt{2\\pi}}\\exp\\left(-\\frac{1}{2}x^2\\right)\n",
    "$$\n",
    "and\n",
    "$$\n",
    "\\Phi(x) = \\int_{-\\infty}^{x} \\phi(z) \\, dz.\n",
    "$$\n",
    "\n",
    "Royston, J. P. (1982). Algorithm AS 177: Expected normal order statistics (exact and approximate). Journal of the royal statistical society. Series C (Applied statistics), 31(2), 161-165."
   ]
  },
  {
   "cell_type": "code",
   "execution_count": null,
   "metadata": {},
   "outputs": [],
   "source": [
    "from scipy.integrate import quad\n",
    "from scipy.special import binom\n",
    "from scipy.stats import norm\n",
    "import numpy as np"
   ]
  },
  {
   "cell_type": "code",
   "execution_count": 3,
   "metadata": {},
   "outputs": [],
   "source": [
    "inf, phi, Phi = float('inf'), norm.pdf, norm.cdf\n",
    "\n",
    "def E(r, n):\n",
    "    def f(x):   \n",
    "        F = Phi(x)\n",
    "        return x*(1-F)**(r-1)*F**(n-r)*phi(x)\n",
    "    return r*binom(n, r)*quad(f, -inf, inf)[0]"
   ]
  },
  {
   "cell_type": "code",
   "execution_count": 73,
   "metadata": {},
   "outputs": [
    {
     "data": {
      "text/plain": [
       "array([[-1.53875273],\n",
       "       [-1.00135704],\n",
       "       [-0.65605911],\n",
       "       [-0.3757647 ],\n",
       "       [-0.12266775],\n",
       "       [ 0.12266775],\n",
       "       [ 0.3757647 ],\n",
       "       [ 0.65605911],\n",
       "       [ 1.00135704],\n",
       "       [ 1.53875273]])"
      ]
     },
     "execution_count": 73,
     "metadata": {},
     "output_type": "execute_result"
    }
   ],
   "source": [
    "m=np.array([E(i,10) for i in range(1,11)])\n",
    "m=m[::-1]\n",
    "m=m.reshape((10,1))\n",
    "m"
   ]
  },
  {
   "cell_type": "markdown",
   "metadata": {},
   "source": [
    "**Covariance Matrix, V**\n",
    "\n",
    "$V_{i,j}=\\mathbb{E}[(Z_{(i)}-m_i)(Z_{(j)}-m_j)]$"
   ]
  },
  {
   "cell_type": "code",
   "execution_count": 46,
   "metadata": {},
   "outputs": [
    {
     "data": {
      "text/plain": [
       "array([[ 2.35676065,  1.03004855, -2.02258982, ...,  1.30640262,\n",
       "        -0.81895459,  1.45529678],\n",
       "       [-1.14898889,  0.65898349, -0.55883736, ..., -2.3236977 ,\n",
       "        -0.26551878,  0.04511493],\n",
       "       [-0.79857022,  2.40098544,  0.12351406, ...,  0.56901273,\n",
       "        -1.38408064, -0.09072097],\n",
       "       ...,\n",
       "       [-1.44008624, -1.24841506, -0.45013202, ..., -0.04813313,\n",
       "         0.68951906, -0.5623948 ],\n",
       "       [ 0.76879009,  1.81966713, -0.81335319, ..., -0.13159266,\n",
       "        -0.45002537, -0.78517371],\n",
       "       [-0.93704861, -1.38512201, -0.37541713, ..., -0.01687263,\n",
       "         1.35122507,  0.66852956]])"
      ]
     },
     "execution_count": 46,
     "metadata": {},
     "output_type": "execute_result"
    }
   ],
   "source": [
    "np.random.seed(2609)\n",
    "matrix=np.random.normal(0,1,(1000000,10))\n",
    "matrix=np.sort(matrix,axis=1)\n",
    "matrix"
   ]
  },
  {
   "cell_type": "code",
   "execution_count": 48,
   "metadata": {},
   "outputs": [
    {
     "data": {
      "text/plain": [
       "array([[0.34452649, 0.17148268, 0.11636244, 0.08797247, 0.07062324,\n",
       "        0.05835302, 0.04886994, 0.04097862, 0.03395854, 0.02680342],\n",
       "       [0.17148268, 0.21470557, 0.14675017, 0.11149474, 0.08966637,\n",
       "        0.07403015, 0.06211368, 0.05214047, 0.04330846, 0.03371779],\n",
       "       [0.11636244, 0.14675017, 0.17506564, 0.13352363, 0.10760177,\n",
       "        0.08901699, 0.0748482 , 0.06288995, 0.05228875, 0.0408636 ],\n",
       "       [0.08797247, 0.11149474, 0.13352363, 0.15766073, 0.12738732,\n",
       "        0.10559131, 0.08881747, 0.07477236, 0.06209446, 0.04865725],\n",
       "       [0.07062324, 0.08966637, 0.10760177, 0.12738732, 0.15119823,\n",
       "        0.12574584, 0.10604351, 0.08933701, 0.07425264, 0.05850678],\n",
       "       [0.05835302, 0.07403015, 0.08901699, 0.10559131, 0.12574584,\n",
       "        0.15124169, 0.12780721, 0.10788928, 0.0899069 , 0.07094881],\n",
       "       [0.04886994, 0.06211368, 0.0748482 , 0.08881747, 0.10604351,\n",
       "        0.12780721, 0.15819085, 0.13387733, 0.1119317 , 0.08859096],\n",
       "       [0.04097862, 0.05214047, 0.06288995, 0.07477236, 0.08933701,\n",
       "        0.10788928, 0.13387733, 0.17505145, 0.14679221, 0.1164982 ],\n",
       "       [0.03395854, 0.04330846, 0.05228875, 0.06209446, 0.07425264,\n",
       "        0.0899069 , 0.1119317 , 0.14679221, 0.21476442, 0.17173214],\n",
       "       [0.02680342, 0.03371779, 0.0408636 , 0.04865725, 0.05850678,\n",
       "        0.07094881, 0.08859096, 0.1164982 , 0.17173214, 0.34418159]])"
      ]
     },
     "execution_count": 48,
     "metadata": {},
     "output_type": "execute_result"
    }
   ],
   "source": [
    "cov_matrix = np.cov(matrix, rowvar=False)\n",
    "cov_matrix"
   ]
  },
  {
   "cell_type": "code",
   "execution_count": 65,
   "metadata": {},
   "outputs": [
    {
     "data": {
      "text/plain": [
       "array([[ 4.81808666e+00, -3.88517720e+00,  2.60816945e-02,\n",
       "         2.72735648e-02,  1.64563027e-02, -1.23575319e-02,\n",
       "         5.60305136e-03, -2.56701855e-04,  1.10828213e-02,\n",
       "        -8.68814788e-03],\n",
       "       [-3.88517720e+00,  1.40396791e+01, -9.22786175e+00,\n",
       "         2.96969274e-02, -9.64267860e-04,  1.99901297e-02,\n",
       "         1.70239237e-02,  4.21920791e-03, -9.24344802e-03,\n",
       "         1.34048524e-02],\n",
       "       [ 2.60816945e-02, -9.22786175e+00,  2.39059059e+01,\n",
       "        -1.37833351e+01,  3.46778680e-02,  4.40784163e-02,\n",
       "        -3.69712747e-02,  3.78761892e-02, -1.78829289e-02,\n",
       "         2.90378090e-03],\n",
       "       [ 2.72735648e-02,  2.96969274e-02, -1.37833351e+01,\n",
       "         3.15701081e+01, -1.69019253e+01,  2.87122744e-02,\n",
       "         9.28360849e-02, -2.79978173e-02,  5.39205577e-03,\n",
       "         1.84237412e-02],\n",
       "       [ 1.64563027e-02, -9.64267860e-04,  3.46778680e-02,\n",
       "        -1.69019253e+01,  3.57505141e+01, -1.79636665e+01,\n",
       "        -2.45943871e-02,  1.86004472e-02,  4.63184028e-02,\n",
       "        -1.31141296e-02],\n",
       "       [-1.23575319e-02,  1.99901297e-02,  4.40784163e-02,\n",
       "         2.87122744e-02, -1.79636665e+01,  3.57913840e+01,\n",
       "        -1.69503582e+01,  1.59107119e-02,  1.88388786e-02,\n",
       "         1.35363791e-02],\n",
       "       [ 5.60305136e-03,  1.70239237e-02, -3.69712747e-02,\n",
       "         9.28360849e-02, -2.45943871e-02, -1.69503582e+01,\n",
       "         3.16518715e+01, -1.37892805e+01,  7.73917314e-03,\n",
       "         3.90393438e-03],\n",
       "       [-2.56701855e-04,  4.21920791e-03,  3.78761892e-02,\n",
       "        -2.79978173e-02,  1.86004472e-02,  1.59107119e-02,\n",
       "        -1.37892805e+01,  2.39496309e+01, -9.23102483e+00,\n",
       "         4.13805059e-02],\n",
       "       [ 1.10828213e-02, -9.24344802e-03, -1.78829289e-02,\n",
       "         5.39205577e-03,  4.63184028e-02,  1.88388786e-02,\n",
       "         7.73917314e-03, -9.23102483e+00,  1.40629634e+01,\n",
       "        -3.90466595e+00],\n",
       "       [-8.68814788e-03,  1.34048524e-02,  2.90378090e-03,\n",
       "         1.84237412e-02, -1.31141296e-02,  1.35363791e-02,\n",
       "         3.90393438e-03,  4.13805059e-02, -3.90466595e+00,\n",
       "         4.83454877e+00]])"
      ]
     },
     "execution_count": 65,
     "metadata": {},
     "output_type": "execute_result"
    }
   ],
   "source": [
    "np.linalg.inv(cov_matrix)"
   ]
  },
  {
   "cell_type": "code",
   "execution_count": 77,
   "metadata": {},
   "outputs": [
    {
     "data": {
      "text/plain": [
       "array([[38.13310932]])"
      ]
     },
     "execution_count": 77,
     "metadata": {},
     "output_type": "execute_result"
    }
   ],
   "source": [
    "m.T @ (np.linalg.inv(cov_matrix)) @ (np.linalg.inv(cov_matrix)) @ m"
   ]
  },
  {
   "cell_type": "code",
   "execution_count": 78,
   "metadata": {},
   "outputs": [
    {
     "data": {
      "text/plain": [
       "array([[-3.55462259, -2.01443463, -1.30547474, -0.76484563, -0.25579514,\n",
       "         0.23408777,  0.7482864 ,  1.33248291,  2.01907983,  3.55221237]])"
      ]
     },
     "execution_count": 78,
     "metadata": {},
     "output_type": "execute_result"
    }
   ],
   "source": [
    "m.T @ (np.linalg.inv(cov_matrix))"
   ]
  },
  {
   "cell_type": "code",
   "execution_count": null,
   "metadata": {},
   "outputs": [],
   "source": []
  },
  {
   "cell_type": "code",
   "execution_count": null,
   "metadata": {},
   "outputs": [],
   "source": []
  },
  {
   "cell_type": "code",
   "execution_count": 61,
   "metadata": {},
   "outputs": [
    {
     "data": {
      "text/plain": [
       "array([-1.53894925, -1.001301  , -0.65612385, -0.3755983 , -0.12238104,\n",
       "        0.12301852,  0.37589477,  0.65623326,  1.00140687,  1.53761375])"
      ]
     },
     "execution_count": 61,
     "metadata": {},
     "output_type": "execute_result"
    }
   ],
   "source": [
    "np.mean(matrix,axis=0)"
   ]
  },
  {
   "cell_type": "code",
   "execution_count": 62,
   "metadata": {},
   "outputs": [
    {
     "data": {
      "text/plain": [
       "array([-1.53875273, -1.00135704, -0.65605911, -0.3757647 , -0.12266775,\n",
       "        0.12266775,  0.3757647 ,  0.65605911,  1.00135704,  1.53875273])"
      ]
     },
     "execution_count": 62,
     "metadata": {},
     "output_type": "execute_result"
    }
   ],
   "source": [
    "m=np.array([E(i,10) for i in range(1,11)])\n",
    "m=m[::-1]\n",
    "m"
   ]
  },
  {
   "cell_type": "code",
   "execution_count": 66,
   "metadata": {},
   "outputs": [
    {
     "name": "stdout",
     "output_type": "stream",
     "text": [
      "Original Matrix:\n",
      " [[1 2]\n",
      " [3 4]]\n",
      "Inverse Matrix:\n",
      " [[-2.   1. ]\n",
      " [ 1.5 -0.5]]\n"
     ]
    }
   ],
   "source": [
    "import numpy as np\n",
    "\n",
    "# Creating an example square matrix\n",
    "matrix = np.array([[1, 2], [3, 4]])\n",
    "\n",
    "# Calculating the inverse of the matrix\n",
    "inverse_matrix = np.linalg.inv(matrix)\n",
    "\n",
    "print(\"Original Matrix:\\n\", matrix)\n",
    "print(\"Inverse Matrix:\\n\", inverse_matrix)\n"
   ]
  },
  {
   "cell_type": "code",
   "execution_count": 68,
   "metadata": {},
   "outputs": [
    {
     "name": "stdout",
     "output_type": "stream",
     "text": [
      "Product using @ operator:\n",
      " [[19 22]\n",
      " [43 50]]\n"
     ]
    }
   ],
   "source": [
    "import numpy as np\n",
    "\n",
    "# Creating two example matrices\n",
    "matrix1 = np.array([[1, 2], [3, 4]])\n",
    "matrix2 = np.array([[5, 6], [7, 8]])\n",
    "\n",
    "# Method 2: Using @ operator\n",
    "product2 = matrix1 @ matrix2\n",
    "\n",
    "print(\"Product using @ operator:\\n\", product2)\n"
   ]
  }
 ],
 "metadata": {
  "kernelspec": {
   "display_name": "Data_Science",
   "language": "python",
   "name": "python3"
  },
  "language_info": {
   "codemirror_mode": {
    "name": "ipython",
    "version": 3
   },
   "file_extension": ".py",
   "mimetype": "text/x-python",
   "name": "python",
   "nbconvert_exporter": "python",
   "pygments_lexer": "ipython3",
   "version": "3.11.5"
  }
 },
 "nbformat": 4,
 "nbformat_minor": 2
}
