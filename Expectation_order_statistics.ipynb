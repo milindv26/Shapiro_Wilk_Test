{
 "cells": [
  {
   "cell_type": "markdown",
   "metadata": {},
   "source": [
    "In a sample of size $(n)$ the expected value of the $(r)$ th largest order statistic is given by\n",
    "$$\n",
    "E(r, n) = \\frac{n!}{(r - 1)!(n - r)!} \\int_{-\\infty}^{\\infty} x(1 - \\Phi(x))^{r-1}(\\Phi(x))^{n-r}\\phi(x) \\, dx,\n",
    "$$\n",
    "where \n",
    "$$\n",
    "\\phi(x) = \\frac{1}{\\sqrt{2\\pi}}\\exp\\left(-\\frac{1}{2}x^2\\right)\n",
    "$$\n",
    "and\n",
    "$$\n",
    "\\Phi(x) = \\int_{-\\infty}^{x} \\phi(z) \\, dz.\n",
    "$$\n"
   ]
  },
  {
   "cell_type": "code",
   "execution_count": null,
   "metadata": {},
   "outputs": [],
   "source": [
    "from scipy.integrate import quad\n",
    "from scipy.special import binom\n",
    "from scipy.stats import norm\n",
    "\n",
    "inf, phi, Phi = float('inf'), norm.pdf, norm.cdf\n",
    "\n",
    "def E(r, n):\n",
    "    def f(x):   \n",
    "        F = Phi(x)\n",
    "        return x*(1-F)**(r-1)*F**(n-r)*phi(x)\n",
    "    return r*binom(n, r)*quad(f, -inf, inf)[0]"
   ]
  }
 ],
 "metadata": {
  "language_info": {
   "name": "python"
  }
 },
 "nbformat": 4,
 "nbformat_minor": 2
}
